{
 "cells": [
  {
   "cell_type": "markdown",
   "id": "521e53f4-0b1c-4bee-9638-0122be6f645a",
   "metadata": {},
   "source": [
    "### Constraint Satisfaction Problem for 1. Graph coloring and 2. general problem that takes input as variables,Domain, constraints to find Solution"
   ]
  },
  {
   "cell_type": "code",
   "execution_count": 13,
   "id": "74120b08-518b-41b7-8855-c11606fedc8e",
   "metadata": {},
   "outputs": [
    {
     "name": "stdin",
     "output_type": "stream",
     "text": [
      "enter no.of nodes:  4\n",
      "enter adjacency list for 0 node:  2 3\n",
      "enter adjacency list for 1 node:  2 3\n",
      "enter adjacency list for 2 node:  1 \n",
      "enter adjacency list for 3 node:  0 1\n"
     ]
    },
    {
     "name": "stdout",
     "output_type": "stream",
     "text": [
      "Graph coloring found:\n",
      "Node 0 -> Color: 1\n",
      "Node 1 -> Color: 1\n",
      "Node 2 -> Color: 2\n",
      "Node 3 -> Color: 2\n"
     ]
    }
   ],
   "source": [
    "class GraphColoring:\n",
    "    def __init__(self, graph, colors):\n",
    "        self.graph = graph\n",
    "        self.colors = colors\n",
    "        self.num_nodes = len(graph)\n",
    "        self.coloring = [0] * self.num_nodes\n",
    "\n",
    "    def is_safe(self, node, color):\n",
    "        for neighbor in self.graph[node]:\n",
    "            if self.coloring[neighbor] == color:\n",
    "                return False\n",
    "        return True\n",
    "\n",
    "    def graph_coloring_util(self, node):\n",
    "        if node == self.num_nodes:\n",
    "            return True\n",
    "       \n",
    "        for color in self.colors:\n",
    "            if self.is_safe(node, color):\n",
    "                self.coloring[node] = color\n",
    "                if self.graph_coloring_util(node + 1):\n",
    "                    return True\n",
    "                self.coloring[node] = 0  # Backtrack\n",
    "        return False\n",
    "\n",
    "    def graph_coloring(self):\n",
    "        if self.graph_coloring_util(0):\n",
    "            return self.coloring\n",
    "        else:\n",
    "            return None\n",
    "\n",
    "# Example usage:\n",
    "if __name__ == \"__main__\":\n",
    "    # Example graph (adjacency list representation)\n",
    "    n = int(input('enter no.of nodes: '))\n",
    "    graph = {}\n",
    "    for i in range(n):\n",
    "        graph[i] = list(map(int,input(f'enter adjacency list for {i} node: ').split()))\n",
    "   \n",
    "    # Available colors\n",
    "    colors = [1, 2, 3]\n",
    "   \n",
    "    # Create graph coloring instance\n",
    "    gc = GraphColoring(graph, colors)\n",
    "   \n",
    "    # Perform graph coloring\n",
    "    coloring = gc.graph_coloring()\n",
    "   \n",
    "    if coloring:\n",
    "        print(\"Graph coloring found:\")\n",
    "        for node, color in enumerate(coloring):\n",
    "            print(f\"Node {node} -> Color: {color}\")\n",
    "    else:\n",
    "        print(\"No valid graph coloring found.\")\n"
   ]
  },
  {
   "cell_type": "code",
   "execution_count": 11,
   "id": "42edc0b9-d330-4428-bc7e-2a96474c08c2",
   "metadata": {},
   "outputs": [
    {
     "name": "stdin",
     "output_type": "stream",
     "text": [
      "Enter variable names separated by spaces:  A B C\n",
      "Enter domain values for A separated by spaces:  1 2 3\n",
      "Enter domain values for B separated by spaces:  3 4 2\n",
      "Enter domain values for C separated by spaces:  5 6 4\n",
      "Enter the number of constraints:  2\n",
      "Enter constraint 1 as Python expression (use 'assignment' as the parameter):  'A' not in assignment or 'B' not in assignment or assignment['A'] != assignment['B']\n",
      "Enter constraint 2 as Python expression (use 'assignment' as the parameter):  'B' not in assignment or 'C' not in assignment or 'A' not in assignment or assignment['B'] != assignment['C'] or assignment['A'] != assignment['C'] \n"
     ]
    },
    {
     "name": "stdout",
     "output_type": "stream",
     "text": [
      "Solution found:\n",
      "{'A': 1, 'B': 3, 'C': 5}\n"
     ]
    }
   ],
   "source": [
    "class CSP:\n",
    "    def __init__(self, variables, domains, constraints):\n",
    "        self.variables = variables  # List of variable names\n",
    "        self.domains = domains  # Dictionary mapping variable names to their domains\n",
    "        self.constraints = constraints  # List of constraint functions\n",
    "\n",
    "    def is_consistent(self, assignment):\n",
    "        for constraint in self.constraints:\n",
    "            if not constraint(assignment):\n",
    "                return False\n",
    "        return True\n",
    "\n",
    "    def backtracking_search(self):\n",
    "        return self.backtrack({})\n",
    "\n",
    "    def backtrack(self, assignment):\n",
    "        if len(assignment) == len(self.variables):\n",
    "            return assignment  # If assignment is complete, return it\n",
    "\n",
    "        var = self.select_unassigned_variable(assignment)\n",
    "        for value in self.order_domain_values(var, assignment):\n",
    "            if self.is_valid(value, var, assignment):\n",
    "                assignment[var] = value\n",
    "                result = self.backtrack(assignment)\n",
    "                if result is not None:\n",
    "                    return result\n",
    "                del assignment[var]  # Backtrack\n",
    "        return None\n",
    "\n",
    "    def select_unassigned_variable(self, assignment):\n",
    "        # Select the first unassigned variable\n",
    "        for var in self.variables:\n",
    "            if var not in assignment:\n",
    "                return var\n",
    "\n",
    "    def order_domain_values(self, var, assignment):\n",
    "        return self.domains[var]  # Use the default order\n",
    "\n",
    "    def is_valid(self, value, var, assignment):\n",
    "        assignment[var] = value\n",
    "        valid = self.is_consistent(assignment)\n",
    "        del assignment[var]\n",
    "        return valid\n",
    "\n",
    "# Get user input for variables\n",
    "variables = input(\"Enter variable names separated by spaces: \").split()\n",
    "\n",
    "# Get user input for domains\n",
    "domains = {}\n",
    "for variable in variables:\n",
    "    domain = input(f\"Enter domain values for {variable} separated by spaces: \").split()\n",
    "    domains[variable] = [int(value) for value in domain]\n",
    "\n",
    "# Get user input for constraints\n",
    "constraints = []\n",
    "constraint_count = int(input(\"Enter the number of constraints: \"))\n",
    "for i in range(constraint_count):\n",
    "    constraint_expression = input(f\"Enter constraint {i + 1} as Python expression (use 'assignment' as the parameter): \")\n",
    "    constraints.append(eval(f\"lambda assignment: {constraint_expression}\"))\n",
    "# constraint_expression is a string representing a Python expression that evaluates to either True or False\n",
    "# Create CSP instance\n",
    "csp = CSP(variables, domains, constraints)\n",
    "\n",
    "# Perform backtracking search\n",
    "result = csp.backtracking_search()\n",
    "\n",
    "if result is not None:\n",
    "    print(\"Solution found:\")\n",
    "    print(result)\n",
    "else:\n",
    "    print(\"No solution found.\")\n"
   ]
  },
  {
   "cell_type": "code",
   "execution_count": null,
   "id": "2eb01da6-c476-44c6-8d0a-304d37271eeb",
   "metadata": {},
   "outputs": [],
   "source": []
  },
  {
   "cell_type": "code",
   "execution_count": null,
   "id": "cdfb9229-ce54-42b5-98c8-6371e6192b90",
   "metadata": {},
   "outputs": [],
   "source": [
    "Enter variable names separated by spaces:  A B C\n",
    "Enter domain values for A separated by spaces:  1 2 4 \n",
    "Enter domain values for B separated by spaces:  3 4 1\n",
    "Enter domain values for C separated by spaces:  8 9 3\n",
    "Enter domain values for C separated by spaces:  8 2 3\n",
    "\n",
    "\n",
    "no of constraints : 2\n",
    "\n",
    "'A' not in assignment or 'B' not in assignment or assignment['A'] != assignment['B']  # A != B\n",
    "\n",
    "'B' not in assignment or 'C' not in assignment or assignment['B'] != assignment['C'] or 'A' not in assignment['C'] # B!=C or A!=C\n",
    "\n",
    "'B' not in assignment or 'C' not in assignment or 'A' not in assignment or assignment['B'] != assignment['C'] or assignment['A'] != assignment['C']  # B!=C or A!=C"
   ]
  },
  {
   "cell_type": "code",
   "execution_count": null,
   "id": "eb11e562-5a53-45ec-9039-d7828f3c16e6",
   "metadata": {},
   "outputs": [],
   "source": []
  },
  {
   "cell_type": "code",
   "execution_count": 14,
   "id": "8c0a924b-6635-40c1-9dc6-2605a336d1fc",
   "metadata": {},
   "outputs": [
    {
     "data": {
      "text/plain": [
       "'/home/cselab6-28'"
      ]
     },
     "execution_count": 14,
     "metadata": {},
     "output_type": "execute_result"
    }
   ],
   "source": [
    "pwd"
   ]
  },
  {
   "cell_type": "code",
   "execution_count": null,
   "id": "751184a6-626e-4a6c-ab0d-105bb78d88d1",
   "metadata": {},
   "outputs": [],
   "source": []
  }
 ],
 "metadata": {
  "kernelspec": {
   "display_name": "Python 3 (ipykernel)",
   "language": "python",
   "name": "python3"
  },
  "language_info": {
   "codemirror_mode": {
    "name": "ipython",
    "version": 3
   },
   "file_extension": ".py",
   "mimetype": "text/x-python",
   "name": "python",
   "nbconvert_exporter": "python",
   "pygments_lexer": "ipython3",
   "version": "3.10.12"
  }
 },
 "nbformat": 4,
 "nbformat_minor": 5
}
