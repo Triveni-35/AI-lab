{
 "cells": [
  {
   "cell_type": "code",
   "execution_count": 6,
   "id": "92e94cef-db1f-4478-ac1f-32de8fb3aaa5",
   "metadata": {},
   "outputs": [
    {
     "name": "stdout",
     "output_type": "stream",
     "text": [
      "Path found:\n",
      "(0, 0)\n",
      "(7, 0)\n",
      "(5, 2)\n",
      "(5, 0)\n",
      "(3, 2)\n",
      "(3, 0)\n"
     ]
    }
   ],
   "source": [
    "from heapq import heappush, heappop\n",
    "   \n",
    "def water_jug_Astar(jug1_max, jug2_max, target):\n",
    "    initial_state = (0, 0)                                     \n",
    "    frontier = []\n",
    "    visited = set()\n",
    "\n",
    "    def heuristic(state):\n",
    "        return abs(state[0] - target[0]) + abs(state[1] - target[1])\n",
    "\n",
    "    def get_next_states(state):\n",
    "        next_states = []\n",
    "\n",
    "        # Fill jug1\n",
    "        next_states.append((jug1_max, state[1]))\n",
    "\n",
    "        # Fill jug2\n",
    "        next_states.append((state[0], jug2_max))\n",
    "\n",
    "        # Empty jug1\n",
    "        next_states.append((0, state[1]))\n",
    "\n",
    "        # Empty jug2\n",
    "        next_states.append((state[0], 0))\n",
    "\n",
    "        # Pour jug1 to jug2\n",
    "        pour_amount = min(state[0], jug2_max - state[1])\n",
    "        next_states.append((state[0] - pour_amount, state[1] + pour_amount))\n",
    "\n",
    "        # Pour jug2 to jug1\n",
    "        pour_amount = min(state[1], jug1_max - state[0])\n",
    "        next_states.append((state[0] + pour_amount, state[1] - pour_amount))\n",
    "\n",
    "        return [state for state in next_states if valid_state(state)]\n",
    "\n",
    "    def valid_state(state):\n",
    "        return 0 <= state[0] <= jug1_max and 0 <= state[1] <= jug2_max\n",
    "\n",
    "    heappush(frontier, (heuristic(initial_state), 0, initial_state, []))\n",
    "\n",
    "    while frontier:\n",
    "        _, cost, current_state, path = heappop(frontier)\n",
    "\n",
    "        if current_state == target:\n",
    "            return path + [current_state]\n",
    "\n",
    "        visited.add(current_state)\n",
    "\n",
    "        for next_state in get_next_states(current_state):\n",
    "            if next_state not in visited:\n",
    "                new_cost = cost + 1\n",
    "                new_heuristic = heuristic(next_state)\n",
    "                new_path = path + [current_state]\n",
    "                heappush(frontier, (new_cost + new_heuristic, new_cost, next_state, new_path))\n",
    "\n",
    "    return None\n",
    "\n",
    "# Example usage\n",
    "jug1_max = 7\n",
    "jug2_max = 2\n",
    "target = (3,0)\n",
    "path = water_jug_Astar(jug1_max, jug2_max, target)\n",
    "if path:\n",
    "    print(\"Path found:\")\n",
    "    for state in path:\n",
    "        print(state)\n",
    "else:\n",
    "    print(\"No solution found.\")\n"
   ]
  }
 ],
 "metadata": {
  "kernelspec": {
   "display_name": "Python 3 (ipykernel)",
   "language": "python",
   "name": "python3"
  },
  "language_info": {
   "codemirror_mode": {
    "name": "ipython",
    "version": 3
   },
   "file_extension": ".py",
   "mimetype": "text/x-python",
   "name": "python",
   "nbconvert_exporter": "python",
   "pygments_lexer": "ipython3",
   "version": "3.10.12"
  }
 },
 "nbformat": 4,
 "nbformat_minor": 5
}
